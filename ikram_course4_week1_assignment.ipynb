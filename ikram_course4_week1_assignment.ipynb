{
    "cells": [
        {
            "metadata": {},
            "cell_type": "markdown",
            "source": "# Inserting data into Notebook\nI used 'train.csv' file where i have my dataset for training"
        },
        {
            "metadata": {},
            "cell_type": "code",
            "source": "\nimport ibmos2spark\n# @hidden_cell\ncredentials = {\n    'endpoint': 'https://s3-api.us-geo.objectstorage.service.networklayer.com',\n    'service_id': 'iam-ServiceId-9f477a12-1e4d-4b90-ad46-d2d81c68710e',\n    'iam_service_endpoint': 'https://iam.ng.bluemix.net/oidc/token',\n    'api_key': 'QoPFoBkCOcy5_z9sCxxIlro_taDDVczipnPs_wXceqeF'\n}\n\nconfiguration_name = 'os_3c4c594765474e10870775abb04cbf2f_configs'\ncos = ibmos2spark.CloudObjectStorage(sc, credentials, configuration_name, 'bluemix_cos')\n\nfrom pyspark.sql import SparkSession\nspark = SparkSession.builder.getOrCreate()\ndf = spark.read\\\n  .format('org.apache.spark.sql.execution.datasources.csv.CSVFileFormat')\\\n  .option('header', 'true')\\\n  .load(cos.url('train.csv', 'defaultikram-donotdelete-pr-ht8dbkrt3n4iv5'))\ndf.take(5)\n",
            "execution_count": 4,
            "outputs": [
                {
                    "output_type": "execute_result",
                    "execution_count": 4,
                    "data": {
                        "text/plain": "[Row(battery_power='842', blue='0', clock_speed='2.2', dual_sim='0', fc='1', four_g='0', int_memory='7', m_dep='0.6', mobile_wt='188', n_cores='2', pc='2', px_height='20', px_width='756', ram='2549', sc_h='9', sc_w='7', talk_time='19', three_g='0', touch_screen='0', wifi='1', price_range='1'),\n Row(battery_power='1021', blue='1', clock_speed='0.5', dual_sim='1', fc='0', four_g='1', int_memory='53', m_dep='0.7', mobile_wt='136', n_cores='3', pc='6', px_height='905', px_width='1988', ram='2631', sc_h='17', sc_w='3', talk_time='7', three_g='1', touch_screen='1', wifi='0', price_range='2'),\n Row(battery_power='563', blue='1', clock_speed='0.5', dual_sim='1', fc='2', four_g='1', int_memory='41', m_dep='0.9', mobile_wt='145', n_cores='5', pc='6', px_height='1263', px_width='1716', ram='2603', sc_h='11', sc_w='2', talk_time='9', three_g='1', touch_screen='1', wifi='0', price_range='2'),\n Row(battery_power='615', blue='1', clock_speed='2.5', dual_sim='0', fc='0', four_g='0', int_memory='10', m_dep='0.8', mobile_wt='131', n_cores='6', pc='9', px_height='1216', px_width='1786', ram='2769', sc_h='16', sc_w='8', talk_time='11', three_g='1', touch_screen='0', wifi='0', price_range='2'),\n Row(battery_power='1821', blue='1', clock_speed='1.2', dual_sim='0', fc='13', four_g='1', int_memory='44', m_dep='0.6', mobile_wt='141', n_cores='2', pc='14', px_height='1208', px_width='1212', ram='1411', sc_h='8', sc_w='2', talk_time='15', three_g='1', touch_screen='1', wifi='0', price_range='1')]"
                    },
                    "metadata": {}
                }
            ]
        },
        {
            "metadata": {},
            "cell_type": "code",
            "source": "df.show()",
            "execution_count": 6,
            "outputs": [
                {
                    "output_type": "stream",
                    "text": "+-------------+----+-----------+--------+---+------+----------+-----+---------+-------+---+---------+--------+----+----+----+---------+-------+------------+----+-----------+\n|battery_power|blue|clock_speed|dual_sim| fc|four_g|int_memory|m_dep|mobile_wt|n_cores| pc|px_height|px_width| ram|sc_h|sc_w|talk_time|three_g|touch_screen|wifi|price_range|\n+-------------+----+-----------+--------+---+------+----------+-----+---------+-------+---+---------+--------+----+----+----+---------+-------+------------+----+-----------+\n|          842|   0|        2.2|       0|  1|     0|         7|  0.6|      188|      2|  2|       20|     756|2549|   9|   7|       19|      0|           0|   1|          1|\n|         1021|   1|        0.5|       1|  0|     1|        53|  0.7|      136|      3|  6|      905|    1988|2631|  17|   3|        7|      1|           1|   0|          2|\n|          563|   1|        0.5|       1|  2|     1|        41|  0.9|      145|      5|  6|     1263|    1716|2603|  11|   2|        9|      1|           1|   0|          2|\n|          615|   1|        2.5|       0|  0|     0|        10|  0.8|      131|      6|  9|     1216|    1786|2769|  16|   8|       11|      1|           0|   0|          2|\n|         1821|   1|        1.2|       0| 13|     1|        44|  0.6|      141|      2| 14|     1208|    1212|1411|   8|   2|       15|      1|           1|   0|          1|\n|         1859|   0|        0.5|       1|  3|     0|        22|  0.7|      164|      1|  7|     1004|    1654|1067|  17|   1|       10|      1|           0|   0|          1|\n|         1821|   0|        1.7|       0|  4|     1|        10|  0.8|      139|      8| 10|      381|    1018|3220|  13|   8|       18|      1|           0|   1|          3|\n|         1954|   0|        0.5|       1|  0|     0|        24|  0.8|      187|      4|  0|      512|    1149| 700|  16|   3|        5|      1|           1|   1|          0|\n|         1445|   1|        0.5|       0|  0|     0|        53|  0.7|      174|      7| 14|      386|     836|1099|  17|   1|       20|      1|           0|   0|          0|\n|          509|   1|        0.6|       1|  2|     1|         9|  0.1|       93|      5| 15|     1137|    1224| 513|  19|  10|       12|      1|           0|   0|          0|\n|          769|   1|        2.9|       1|  0|     0|         9|  0.1|      182|      5|  1|      248|     874|3946|   5|   2|        7|      0|           0|   0|          3|\n|         1520|   1|        2.2|       0|  5|     1|        33|  0.5|      177|      8| 18|      151|    1005|3826|  14|   9|       13|      1|           1|   1|          3|\n|         1815|   0|        2.8|       0|  2|     0|        33|  0.6|      159|      4| 17|      607|     748|1482|  18|   0|        2|      1|           0|   0|          1|\n|          803|   1|        2.1|       0|  7|     0|        17|  1.0|      198|      4| 11|      344|    1440|2680|   7|   1|        4|      1|           0|   1|          2|\n|         1866|   0|        0.5|       0| 13|     1|        52|  0.7|      185|      1| 17|      356|     563| 373|  14|   9|        3|      1|           0|   1|          0|\n|          775|   0|        1.0|       0|  3|     0|        46|  0.7|      159|      2| 16|      862|    1864| 568|  17|  15|       11|      1|           1|   1|          0|\n|          838|   0|        0.5|       0|  1|     1|        13|  0.1|      196|      8|  4|      984|    1850|3554|  10|   9|       19|      1|           0|   1|          3|\n|          595|   0|        0.9|       1|  7|     1|        23|  0.1|      121|      3| 17|      441|     810|3752|  10|   2|       18|      1|           1|   0|          3|\n|         1131|   1|        0.5|       1| 11|     0|        49|  0.6|      101|      5| 18|      658|     878|1835|  19|  13|       16|      1|           1|   0|          1|\n|          682|   1|        0.5|       0|  4|     0|        19|  1.0|      121|      4| 11|      902|    1064|2337|  11|   1|       18|      0|           1|   1|          1|\n+-------------+----+-----------+--------+---+------+----------+-----+---------+-------+---+---------+--------+----+----+----+---------+-------+------------+----+-----------+\nonly showing top 20 rows\n\n",
                    "name": "stdout"
                }
            ]
        },
        {
            "metadata": {},
            "cell_type": "code",
            "source": "df.createOrReplaceTempView('Dataset')",
            "execution_count": 7,
            "outputs": []
        },
        {
            "metadata": {},
            "cell_type": "markdown",
            "source": "# Initial Data Exploration\nNow, I am going to implement some simple functions that i learned earlier so that i can have a view of my dataset. I will find min, mix, standard deviation and some other properties of my data columns and will explore them on different columns. I have imported data using pandas dataframe but now converted it to spark and created a view so that i can run quries on it."
        },
        {
            "metadata": {},
            "cell_type": "code",
            "source": "\"\"\"\n    function to find minimum of a column\n\"\"\"\ndef findMin(columnName):\n    spark.sql('select min('+columName+') from Dataset')",
            "execution_count": 8,
            "outputs": []
        },
        {
            "metadata": {},
            "cell_type": "code",
            "source": "def findMax(columnName):\n    spark.sql('select min('+columName+') from Dataset')",
            "execution_count": null,
            "outputs": []
        }
    ],
    "metadata": {
        "kernelspec": {
            "name": "python36",
            "display_name": "Python 3.6 with Spark",
            "language": "python3"
        },
        "language_info": {
            "mimetype": "text/x-python",
            "nbconvert_exporter": "python",
            "name": "python",
            "pygments_lexer": "ipython3",
            "version": "3.6.8",
            "file_extension": ".py",
            "codemirror_mode": {
                "version": 3,
                "name": "ipython"
            }
        }
    },
    "nbformat": 4,
    "nbformat_minor": 1
}